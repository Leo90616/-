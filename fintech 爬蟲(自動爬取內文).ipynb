{
 "cells": [
  {
   "cell_type": "code",
   "execution_count": null,
   "metadata": {},
   "outputs": [],
   "source": [
    "import requests\n",
    "from bs4 import BeautifulSoup\n",
    "from selenium import webdriver\n",
    "import time\n",
    "import pandas as pd\n",
    "\n",
    "options = webdriver.ChromeOptions()\n",
    "\n",
    "browser = webdriver.Chrome(options=options)\n",
    "\n",
    "url = 'https://www.google.com.tw/maps/place/%E7%93%A6%E5%9F%8E%E6%B3%B0%E5%9C%8B%E6%96%99%E7%90%86+-+%E5%8F%B0%E4%B8%AD%E9%BA%97%E5%AF%B6%E5%BA%97/@24.2335548,120.4303719,10z/data=!4m11!1m2!2m1!1z55Om5Z-O!3m7!1s0x0:0xb4ee93bb18083e72!8m2!3d24.3251213!4d120.7010365!9m1!1b1!15sCgbnk6bln44iA4gBAVoSCgfnk6Yg5Z-OIgfnk6Yg5Z-OkgEPdGhhaV9yZXN0YXVyYW50mgEjQ2haRFNVaE5NRzluUzBWSlEwRm5TVVF3TjJZMmNtWkJFQUU?hl=zh-TW'\n",
    "\n",
    "browser.implicitly_wait(10)\n",
    "browser.get(url)\n",
    "\n",
    "tmp = browser.find_elements_by_xpath(\"//div[@class='section-review-review-content']\")\n",
    "\n",
    "while len(tmp) < int(611): #評論總數減6\n",
    "    browser.execute_script('''\n",
    "        const body = document.querySelector(`\n",
    "            div.section-layout.section-scrollbox.mapsConsumerUiCommonScrollable__scrollable-y.mapsConsumerUiCommonScrollable__scrollable-show\n",
    "        `);\n",
    "        body.scrollTo(0, body.scrollHeight);\n",
    "    ''')\n",
    "\n",
    "    time.sleep(0.5)\n",
    "\n",
    "    tmp = browser.find_elements_by_xpath(\"//div[@class='section-review-review-content']\")\n",
    "\n",
    "    \n",
    "soup = BeautifulSoup(browser.page_source, 'html.parser') \n",
    "reviewer = soup.find_all('div', {'class': 'section-review-title'})\n",
    "stars = soup.find_all('span', {'class': 'section-review-stars'})\n",
    "contents = soup.find_all('span', {'class': 'section-review-text'})\n",
    "\n",
    "name = []\n",
    "score = []\n",
    "review_text = []\n",
    "\n",
    "for r_name in reviewer:\n",
    "    name.append(r_name.text)\n",
    "\n",
    "for rating in stars:\n",
    "    score.append(rating['aria-label'])\n",
    "    \n",
    "for review in contents:\n",
    "    review_text.append(review.text)\n",
    "\n",
    "all_data = list(zip(name, score, review_text))\n",
    "\n",
    "df = pd.DataFrame(all_data, columns = ['評論者' , '評價分數', '評論內容'])\n",
    "\n",
    "df.to_csv('review.csv', index=False)\n",
    "\n",
    "df"
   ]
  }
 ],
 "metadata": {
  "kernelspec": {
   "display_name": "Python 3",
   "language": "python",
   "name": "python3"
  },
  "language_info": {
   "codemirror_mode": {
    "name": "ipython",
    "version": 3
   },
   "file_extension": ".py",
   "mimetype": "text/x-python",
   "name": "python",
   "nbconvert_exporter": "python",
   "pygments_lexer": "ipython3",
   "version": "3.7.6"
  }
 },
 "nbformat": 4,
 "nbformat_minor": 4
}
